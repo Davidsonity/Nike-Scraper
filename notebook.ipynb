{
 "cells": [
  {
   "cell_type": "markdown",
   "id": "ebcb0671-e13e-4865-b6e0-5ea0b81ebb74",
   "metadata": {
    "tags": []
   },
   "source": [
    "# **The Nike Scraper**\n",
    "\n",
    "### Process and Explanation at the end of project!!"
   ]
  },
  {
   "cell_type": "markdown",
   "id": "c55b446a-180a-498f-8742-1a385a66b82b",
   "metadata": {},
   "source": [
    "If you have not installed libraries, uncomment below and run. **NOTE:** for the the chromedriver_binary = {}, check your chrome settings, 'About Chrome' to get your own version and insert mine is 99.0.4844.51"
   ]
  },
  {
   "cell_type": "code",
   "execution_count": 20,
   "id": "75e0de3a-383e-436f-87b5-d2068746a7f2",
   "metadata": {},
   "outputs": [],
   "source": [
    "# # install libraries\n",
    "# !pip install selenium\n",
    "# !pip install bs4\n",
    "# #READ!!! READ!!! READ!!! ----->>> chech your chrome settings, 'About Chrome' to get your own version and insert mine is '99.0.4844.51'\n",
    "# !pip install chromedriver_binary==99.0.4844.51  #NOTE: chech your chrome settings, 'About Chrome' to get your own version and insert mine is \"99.0.4844.51\""
   ]
  },
  {
   "cell_type": "code",
   "execution_count": 18,
   "id": "c51c79ec-c8bf-4acb-a867-4cf9a27bf0b3",
   "metadata": {},
   "outputs": [],
   "source": [
    "# Import libraries\n",
    "import pandas as pd\n",
    "from selenium import webdriver\n",
    "import bs4\n",
    "import chromedriver_binary\n",
    "import csv\n",
    "import requests\n",
    "\n",
    "def my_url(keyyword):\n",
    "    keyword = keyyword.replace(' ', '%20')\n",
    "    url = 'https://www.nike.com/w?q={}'.format(keyword)\n",
    "    return url\n",
    "\n",
    "def extract_data(obj):\n",
    "    name = obj.find('div', 'product-card__title').text.strip()\n",
    "    description = obj.find('div', 'product-card__subtitle').text.strip()\n",
    "    color = obj.find('div','product-card__count-item').text\n",
    "    url2 = obj.find('a', 'product-card__link-overlay').get('href')\n",
    "    \n",
    "    #use a try block incase because the price might be in the discount block\n",
    "    try:\n",
    "        price = obj.find('div', 'product-price us__styling is--current-price css-11s12ax').text\n",
    "    except AttributeError:\n",
    "        price = obj.find('div','product-price is--current-price css-1ydfahe').text\n",
    "        \n",
    "    try:\n",
    "        old_price = obj.find('div','product-price us__styling is--striked-out css-0').text\n",
    "    except AttributeError:\n",
    "        old_price = ''\n",
    "        \n",
    "    data = requests.get(url2)\n",
    "    soup2 = bs4.BeautifulSoup(data.text, 'html.parser')\n",
    "    image = soup2.find('img', class_ = 'css-viwop1 u-full-width u-full-height css-m5dkrx').get('src')\n",
    "    \n",
    "    result = (name, description, color, price, old_price, image, url2)\n",
    "    return result\n",
    "    \n",
    "def search(keyword):\n",
    "    records = []\n",
    "    url = my_url(keyword)\n",
    "    \n",
    "    response = requests.get(url)\n",
    "    soup = bs4.BeautifulSoup(response.text, 'html.parser')\n",
    "    soup_results = soup.findAll('div', class_ = 'product-card__body')\n",
    "    for item in soup_results:\n",
    "        record = extract_data(item)\n",
    "        if record:\n",
    "            records.append(record)\n",
    "    \n",
    "    # Convert list to dataframe\n",
    "    columns_ = ['Name','Description','Available In', 'Price', 'Old Price', 'Image Link', 'URL']\n",
    "    df = pd.DataFrame(records, columns = columns_)\n",
    "    \n",
    "    return df\n",
    "    \n",
    "    # To store data in csv file, Run this\n",
    "    # with open('Nike_Results.csv','w', newline = '', encoding = 'utf-8') as f:\n",
    "    #     writer = csv.writer(f)\n",
    "    #     writer.writerow(['Name','Description','Available In', 'Price', 'Old Price', 'Image Link', 'URL'])\n",
    "    #     writer.writerows(records)"
   ]
  },
  {
   "cell_type": "markdown",
   "id": "83be9170-b30a-4cdd-a5fb-fff7ff822857",
   "metadata": {},
   "source": [
    "### Testing"
   ]
  },
  {
   "cell_type": "code",
   "execution_count": 19,
   "id": "86bb1c74-e15d-4cd5-ad6c-7e95c4273cfc",
   "metadata": {},
   "outputs": [
    {
     "data": {
      "text/html": [
       "<div>\n",
       "<style scoped>\n",
       "    .dataframe tbody tr th:only-of-type {\n",
       "        vertical-align: middle;\n",
       "    }\n",
       "\n",
       "    .dataframe tbody tr th {\n",
       "        vertical-align: top;\n",
       "    }\n",
       "\n",
       "    .dataframe thead th {\n",
       "        text-align: right;\n",
       "    }\n",
       "</style>\n",
       "<table border=\"1\" class=\"dataframe\">\n",
       "  <thead>\n",
       "    <tr style=\"text-align: right;\">\n",
       "      <th></th>\n",
       "      <th>Name</th>\n",
       "      <th>Description</th>\n",
       "      <th>Available In</th>\n",
       "      <th>Price</th>\n",
       "      <th>Old Price</th>\n",
       "      <th>Image Link</th>\n",
       "      <th>URL</th>\n",
       "    </tr>\n",
       "  </thead>\n",
       "  <tbody>\n",
       "    <tr>\n",
       "      <th>0</th>\n",
       "      <td>LeBron All-Court 8P</td>\n",
       "      <td>Basketball</td>\n",
       "      <td>1 Color</td>\n",
       "      <td>$45</td>\n",
       "      <td></td>\n",
       "      <td>https://static.nike.com/a/images/t_PDP_1280_v1...</td>\n",
       "      <td>https://www.nike.com/t/lebron-all-court-8p-bas...</td>\n",
       "    </tr>\n",
       "    <tr>\n",
       "      <th>1</th>\n",
       "      <td>Jordan Diamond Outdoor 8P</td>\n",
       "      <td>Basketball</td>\n",
       "      <td>1 Color</td>\n",
       "      <td>$50</td>\n",
       "      <td></td>\n",
       "      <td>https://static.nike.com/a/images/t_PDP_1280_v1...</td>\n",
       "      <td>https://www.nike.com/t/jordan-diamond-outdoor-...</td>\n",
       "    </tr>\n",
       "    <tr>\n",
       "      <th>2</th>\n",
       "      <td>Nike Academy</td>\n",
       "      <td>Soccer Ball</td>\n",
       "      <td>1 Color</td>\n",
       "      <td>$27.97</td>\n",
       "      <td>$32</td>\n",
       "      <td>https://static.nike.com/a/images/t_PDP_1280_v1...</td>\n",
       "      <td>https://www.nike.com/t/academy-soccer-ball-vCR...</td>\n",
       "    </tr>\n",
       "    <tr>\n",
       "      <th>3</th>\n",
       "      <td>Nike Everyday Playground 8P</td>\n",
       "      <td>Graphic Basketball</td>\n",
       "      <td>1 Color</td>\n",
       "      <td>$25</td>\n",
       "      <td></td>\n",
       "      <td>https://static.nike.com/a/images/t_PDP_1280_v1...</td>\n",
       "      <td>https://www.nike.com/t/everyday-playground-8p-...</td>\n",
       "    </tr>\n",
       "    <tr>\n",
       "      <th>4</th>\n",
       "      <td>Premier League Skills</td>\n",
       "      <td>Soccer Ball</td>\n",
       "      <td>1 Color</td>\n",
       "      <td>$17</td>\n",
       "      <td></td>\n",
       "      <td>https://static.nike.com/a/images/t_PDP_1280_v1...</td>\n",
       "      <td>https://www.nike.com/t/premier-league-skills-s...</td>\n",
       "    </tr>\n",
       "    <tr>\n",
       "      <th>5</th>\n",
       "      <td>KD All-Court 8P</td>\n",
       "      <td>Basketball</td>\n",
       "      <td>1 Color</td>\n",
       "      <td>$45</td>\n",
       "      <td></td>\n",
       "      <td>https://static.nike.com/a/images/t_PDP_1280_v1...</td>\n",
       "      <td>https://www.nike.com/t/kd-all-court-8p-basketb...</td>\n",
       "    </tr>\n",
       "    <tr>\n",
       "      <th>6</th>\n",
       "      <td>Jordan Championship 8P</td>\n",
       "      <td>Basketball</td>\n",
       "      <td>1 Color</td>\n",
       "      <td>$75</td>\n",
       "      <td></td>\n",
       "      <td>https://static.nike.com/a/images/t_PDP_1280_v1...</td>\n",
       "      <td>https://www.nike.com/t/jordan-championship-8p-...</td>\n",
       "    </tr>\n",
       "    <tr>\n",
       "      <th>7</th>\n",
       "      <td>Nike Elite All-Court 8P</td>\n",
       "      <td>Basketball</td>\n",
       "      <td>1 Color</td>\n",
       "      <td>$30</td>\n",
       "      <td></td>\n",
       "      <td>https://static.nike.com/a/images/t_PDP_1280_v1...</td>\n",
       "      <td>https://www.nike.com/t/elite-all-court-8p-bask...</td>\n",
       "    </tr>\n",
       "    <tr>\n",
       "      <th>8</th>\n",
       "      <td>Premier League Flight</td>\n",
       "      <td>Soccer Ball</td>\n",
       "      <td>2 Colors</td>\n",
       "      <td>$162</td>\n",
       "      <td></td>\n",
       "      <td>https://static.nike.com/a/images/t_PDP_1280_v1...</td>\n",
       "      <td>https://www.nike.com/t/premier-league-flight-s...</td>\n",
       "    </tr>\n",
       "    <tr>\n",
       "      <th>9</th>\n",
       "      <td>NFHS Club Elite Team</td>\n",
       "      <td>Soccer Ball</td>\n",
       "      <td>1 Color</td>\n",
       "      <td>$62</td>\n",
       "      <td></td>\n",
       "      <td>https://static.nike.com/a/images/t_PDP_1280_v1...</td>\n",
       "      <td>https://www.nike.com/t/nfhs-club-elite-team-so...</td>\n",
       "    </tr>\n",
       "    <tr>\n",
       "      <th>10</th>\n",
       "      <td>USA Strike</td>\n",
       "      <td>Soccer Ball</td>\n",
       "      <td>1 Color</td>\n",
       "      <td>$32</td>\n",
       "      <td></td>\n",
       "      <td>https://static.nike.com/a/images/t_PDP_1280_v1...</td>\n",
       "      <td>https://www.nike.com/t/usa-strike-soccer-ball-...</td>\n",
       "    </tr>\n",
       "    <tr>\n",
       "      <th>11</th>\n",
       "      <td>Nike Elite Tournament</td>\n",
       "      <td>Basketball (Size 6 and 7)</td>\n",
       "      <td>1 Color</td>\n",
       "      <td>$50</td>\n",
       "      <td></td>\n",
       "      <td>https://static.nike.com/a/images/t_PDP_1280_v1...</td>\n",
       "      <td>https://www.nike.com/t/elite-tournament-basket...</td>\n",
       "    </tr>\n",
       "    <tr>\n",
       "      <th>12</th>\n",
       "      <td>Jordan Hyper Elite 8P</td>\n",
       "      <td>Basketball (Size 7)</td>\n",
       "      <td>1 Color</td>\n",
       "      <td>$44.97</td>\n",
       "      <td>$70</td>\n",
       "      <td>https://static.nike.com/a/images/t_PDP_1280_v1...</td>\n",
       "      <td>https://www.nike.com/t/jordan-hyper-elite-8p-b...</td>\n",
       "    </tr>\n",
       "    <tr>\n",
       "      <th>13</th>\n",
       "      <td>Nike Skills</td>\n",
       "      <td>Kids' Basketball</td>\n",
       "      <td>2 Colors</td>\n",
       "      <td>$15</td>\n",
       "      <td></td>\n",
       "      <td>https://static.nike.com/a/images/t_PDP_1280_v1...</td>\n",
       "      <td>https://www.nike.com/t/skills-kids-basketball-...</td>\n",
       "    </tr>\n",
       "    <tr>\n",
       "      <th>14</th>\n",
       "      <td>Nike Flight</td>\n",
       "      <td>Soccer Ball</td>\n",
       "      <td>2 Colors</td>\n",
       "      <td>$137.97</td>\n",
       "      <td>$162</td>\n",
       "      <td>https://static.nike.com/a/images/t_PDP_1280_v1...</td>\n",
       "      <td>https://www.nike.com/t/flight-soccer-ball-lnBW...</td>\n",
       "    </tr>\n",
       "    <tr>\n",
       "      <th>15</th>\n",
       "      <td>Nike Elite Championship 8P`</td>\n",
       "      <td>Basketball</td>\n",
       "      <td>1 Color</td>\n",
       "      <td>$75</td>\n",
       "      <td></td>\n",
       "      <td>https://static.nike.com/a/images/t_PDP_1280_v1...</td>\n",
       "      <td>https://www.nike.com/t/elite-championship-8p-b...</td>\n",
       "    </tr>\n",
       "    <tr>\n",
       "      <th>16</th>\n",
       "      <td>Paris Saint-Germain Strike</td>\n",
       "      <td>Soccer Ball</td>\n",
       "      <td>2 Colors</td>\n",
       "      <td>$32</td>\n",
       "      <td></td>\n",
       "      <td>https://static.nike.com/a/images/t_PDP_1280_v1...</td>\n",
       "      <td>https://www.nike.com/t/paris-saint-germain-str...</td>\n",
       "    </tr>\n",
       "    <tr>\n",
       "      <th>17</th>\n",
       "      <td>FC Barcelona Strike</td>\n",
       "      <td>Soccer Ball</td>\n",
       "      <td>1 Color</td>\n",
       "      <td>$32</td>\n",
       "      <td></td>\n",
       "      <td>https://static.nike.com/a/images/t_PDP_1280_v1...</td>\n",
       "      <td>https://www.nike.com/t/fc-barcelona-strike-soc...</td>\n",
       "    </tr>\n",
       "    <tr>\n",
       "      <th>18</th>\n",
       "      <td>Premier League Academy</td>\n",
       "      <td>Soccer Ball</td>\n",
       "      <td>1 Color</td>\n",
       "      <td>$37</td>\n",
       "      <td></td>\n",
       "      <td>https://static.nike.com/a/images/t_PDP_1280_v1...</td>\n",
       "      <td>https://www.nike.com/t/premier-league-academy-...</td>\n",
       "    </tr>\n",
       "    <tr>\n",
       "      <th>19</th>\n",
       "      <td>Nike Playground</td>\n",
       "      <td>Graphic Mini Football</td>\n",
       "      <td>1 Color</td>\n",
       "      <td>$12.97</td>\n",
       "      <td>$15</td>\n",
       "      <td>https://static.nike.com/a/images/t_PDP_1280_v1...</td>\n",
       "      <td>https://www.nike.com/t/playground-graphic-mini...</td>\n",
       "    </tr>\n",
       "    <tr>\n",
       "      <th>20</th>\n",
       "      <td>Nike College Mini (UNC)</td>\n",
       "      <td>Basketball</td>\n",
       "      <td>7 Colors</td>\n",
       "      <td>$15</td>\n",
       "      <td></td>\n",
       "      <td>https://static.nike.com/a/images/t_PDP_1280_v1...</td>\n",
       "      <td>https://www.nike.com/t/mini-unc-basketball-jqL...</td>\n",
       "    </tr>\n",
       "    <tr>\n",
       "      <th>21</th>\n",
       "      <td>Nike Playground</td>\n",
       "      <td>Mini Football</td>\n",
       "      <td>2 Colors</td>\n",
       "      <td>$15</td>\n",
       "      <td></td>\n",
       "      <td>https://static.nike.com/a/images/t_PDP_1280_v1...</td>\n",
       "      <td>https://www.nike.com/t/playground-mini-footbal...</td>\n",
       "    </tr>\n",
       "    <tr>\n",
       "      <th>22</th>\n",
       "      <td>Nike College (UCLA)</td>\n",
       "      <td>Mini Basketball</td>\n",
       "      <td>1 Color</td>\n",
       "      <td>$15</td>\n",
       "      <td></td>\n",
       "      <td>https://static.nike.com/a/images/t_PDP_1280_v1...</td>\n",
       "      <td>https://www.nike.com/t/ucla-mini-basketball-Hf...</td>\n",
       "    </tr>\n",
       "    <tr>\n",
       "      <th>23</th>\n",
       "      <td>Jordan Premium 8P</td>\n",
       "      <td>Basketball</td>\n",
       "      <td>1 Color</td>\n",
       "      <td>$85.97</td>\n",
       "      <td>$150</td>\n",
       "      <td>https://static.nike.com/a/images/t_PDP_1280_v1...</td>\n",
       "      <td>https://www.nike.com/t/jordan-premium-8p-baske...</td>\n",
       "    </tr>\n",
       "  </tbody>\n",
       "</table>\n",
       "</div>"
      ],
      "text/plain": [
       "                           Name                Description Available In  \\\n",
       "0           LeBron All-Court 8P                 Basketball      1 Color   \n",
       "1     Jordan Diamond Outdoor 8P                 Basketball      1 Color   \n",
       "2                  Nike Academy                Soccer Ball      1 Color   \n",
       "3   Nike Everyday Playground 8P         Graphic Basketball      1 Color   \n",
       "4         Premier League Skills                Soccer Ball      1 Color   \n",
       "5               KD All-Court 8P                 Basketball      1 Color   \n",
       "6        Jordan Championship 8P                 Basketball      1 Color   \n",
       "7       Nike Elite All-Court 8P                 Basketball      1 Color   \n",
       "8         Premier League Flight                Soccer Ball     2 Colors   \n",
       "9          NFHS Club Elite Team                Soccer Ball      1 Color   \n",
       "10                   USA Strike                Soccer Ball      1 Color   \n",
       "11        Nike Elite Tournament  Basketball (Size 6 and 7)      1 Color   \n",
       "12        Jordan Hyper Elite 8P        Basketball (Size 7)      1 Color   \n",
       "13                  Nike Skills           Kids' Basketball     2 Colors   \n",
       "14                  Nike Flight                Soccer Ball     2 Colors   \n",
       "15  Nike Elite Championship 8P`                 Basketball      1 Color   \n",
       "16   Paris Saint-Germain Strike                Soccer Ball     2 Colors   \n",
       "17          FC Barcelona Strike                Soccer Ball      1 Color   \n",
       "18       Premier League Academy                Soccer Ball      1 Color   \n",
       "19              Nike Playground      Graphic Mini Football      1 Color   \n",
       "20      Nike College Mini (UNC)                 Basketball     7 Colors   \n",
       "21              Nike Playground              Mini Football     2 Colors   \n",
       "22          Nike College (UCLA)            Mini Basketball      1 Color   \n",
       "23            Jordan Premium 8P                 Basketball      1 Color   \n",
       "\n",
       "      Price Old Price                                         Image Link  \\\n",
       "0       $45            https://static.nike.com/a/images/t_PDP_1280_v1...   \n",
       "1       $50            https://static.nike.com/a/images/t_PDP_1280_v1...   \n",
       "2    $27.97       $32  https://static.nike.com/a/images/t_PDP_1280_v1...   \n",
       "3       $25            https://static.nike.com/a/images/t_PDP_1280_v1...   \n",
       "4       $17            https://static.nike.com/a/images/t_PDP_1280_v1...   \n",
       "5       $45            https://static.nike.com/a/images/t_PDP_1280_v1...   \n",
       "6       $75            https://static.nike.com/a/images/t_PDP_1280_v1...   \n",
       "7       $30            https://static.nike.com/a/images/t_PDP_1280_v1...   \n",
       "8      $162            https://static.nike.com/a/images/t_PDP_1280_v1...   \n",
       "9       $62            https://static.nike.com/a/images/t_PDP_1280_v1...   \n",
       "10      $32            https://static.nike.com/a/images/t_PDP_1280_v1...   \n",
       "11      $50            https://static.nike.com/a/images/t_PDP_1280_v1...   \n",
       "12   $44.97       $70  https://static.nike.com/a/images/t_PDP_1280_v1...   \n",
       "13      $15            https://static.nike.com/a/images/t_PDP_1280_v1...   \n",
       "14  $137.97      $162  https://static.nike.com/a/images/t_PDP_1280_v1...   \n",
       "15      $75            https://static.nike.com/a/images/t_PDP_1280_v1...   \n",
       "16      $32            https://static.nike.com/a/images/t_PDP_1280_v1...   \n",
       "17      $32            https://static.nike.com/a/images/t_PDP_1280_v1...   \n",
       "18      $37            https://static.nike.com/a/images/t_PDP_1280_v1...   \n",
       "19   $12.97       $15  https://static.nike.com/a/images/t_PDP_1280_v1...   \n",
       "20      $15            https://static.nike.com/a/images/t_PDP_1280_v1...   \n",
       "21      $15            https://static.nike.com/a/images/t_PDP_1280_v1...   \n",
       "22      $15            https://static.nike.com/a/images/t_PDP_1280_v1...   \n",
       "23   $85.97      $150  https://static.nike.com/a/images/t_PDP_1280_v1...   \n",
       "\n",
       "                                                  URL  \n",
       "0   https://www.nike.com/t/lebron-all-court-8p-bas...  \n",
       "1   https://www.nike.com/t/jordan-diamond-outdoor-...  \n",
       "2   https://www.nike.com/t/academy-soccer-ball-vCR...  \n",
       "3   https://www.nike.com/t/everyday-playground-8p-...  \n",
       "4   https://www.nike.com/t/premier-league-skills-s...  \n",
       "5   https://www.nike.com/t/kd-all-court-8p-basketb...  \n",
       "6   https://www.nike.com/t/jordan-championship-8p-...  \n",
       "7   https://www.nike.com/t/elite-all-court-8p-bask...  \n",
       "8   https://www.nike.com/t/premier-league-flight-s...  \n",
       "9   https://www.nike.com/t/nfhs-club-elite-team-so...  \n",
       "10  https://www.nike.com/t/usa-strike-soccer-ball-...  \n",
       "11  https://www.nike.com/t/elite-tournament-basket...  \n",
       "12  https://www.nike.com/t/jordan-hyper-elite-8p-b...  \n",
       "13  https://www.nike.com/t/skills-kids-basketball-...  \n",
       "14  https://www.nike.com/t/flight-soccer-ball-lnBW...  \n",
       "15  https://www.nike.com/t/elite-championship-8p-b...  \n",
       "16  https://www.nike.com/t/paris-saint-germain-str...  \n",
       "17  https://www.nike.com/t/fc-barcelona-strike-soc...  \n",
       "18  https://www.nike.com/t/premier-league-academy-...  \n",
       "19  https://www.nike.com/t/playground-graphic-mini...  \n",
       "20  https://www.nike.com/t/mini-unc-basketball-jqL...  \n",
       "21  https://www.nike.com/t/playground-mini-footbal...  \n",
       "22  https://www.nike.com/t/ucla-mini-basketball-Hf...  \n",
       "23  https://www.nike.com/t/jordan-premium-8p-baske...  "
      ]
     },
     "execution_count": 19,
     "metadata": {},
     "output_type": "execute_result"
    }
   ],
   "source": [
    "search('ball')"
   ]
  },
  {
   "cell_type": "markdown",
   "id": "4a24181f-7322-4745-9198-1fc353399eeb",
   "metadata": {
    "tags": []
   },
   "source": [
    "## **PROCESS AND EXPLANATIONS**"
   ]
  },
  {
   "cell_type": "code",
   "execution_count": 1,
   "id": "e203be07-5a13-4bf6-a033-3fa50970a931",
   "metadata": {},
   "outputs": [],
   "source": [
    "# Import libraries\n",
    "from selenium import webdriver\n",
    "import bs4\n",
    "import chromedriver_binary\n",
    "import csv\n",
    "import requests"
   ]
  },
  {
   "cell_type": "code",
   "execution_count": 5,
   "id": "9ada28e4-8d92-4fd0-abb4-4138fa66694c",
   "metadata": {},
   "outputs": [],
   "source": [
    "# activate driver\n",
    "driver = webdriver.Chrome()"
   ]
  },
  {
   "cell_type": "code",
   "execution_count": 2,
   "id": "5c56de50-0847-43f3-a603-22f5913c2e0d",
   "metadata": {},
   "outputs": [],
   "source": [
    "def my_url(keyyword):\n",
    "    keyword = keyyword.replace(' ', '%20')\n",
    "    url = 'https://www.nike.com/w?q={}'.format(keyword)\n",
    "    return url"
   ]
  },
  {
   "cell_type": "code",
   "execution_count": 3,
   "id": "45248d13-9bd7-4eb1-84fe-8f3f20074e5d",
   "metadata": {},
   "outputs": [
    {
     "data": {
      "text/plain": [
       "'https://www.nike.com/w?q=blue%20shirt'"
      ]
     },
     "execution_count": 3,
     "metadata": {},
     "output_type": "execute_result"
    }
   ],
   "source": [
    "url = my_url('blue shirt')\n",
    "url"
   ]
  },
  {
   "cell_type": "code",
   "execution_count": 6,
   "id": "5cb577e1-8c06-427c-b5ce-e3aa4f1aa894",
   "metadata": {},
   "outputs": [],
   "source": [
    "response = requests.get(url)"
   ]
  },
  {
   "cell_type": "code",
   "execution_count": 7,
   "id": "d89768d1-4e17-4369-ab2f-0173397a0bf2",
   "metadata": {},
   "outputs": [],
   "source": [
    "soup = bs4.BeautifulSoup(response.text, 'html.parser')"
   ]
  },
  {
   "cell_type": "code",
   "execution_count": 8,
   "id": "9a0088a7-40e0-4633-8a79-b7f2f31e3f8a",
   "metadata": {},
   "outputs": [
    {
     "data": {
      "text/plain": [
       "24"
      ]
     },
     "execution_count": 8,
     "metadata": {},
     "output_type": "execute_result"
    }
   ],
   "source": [
    "soup_results = soup.findAll('div', class_ = 'product-card__body')\n",
    "len(soup_results)"
   ]
  },
  {
   "cell_type": "markdown",
   "id": "a177c933-8a65-4e93-8707-5040381e4bb0",
   "metadata": {},
   "source": [
    "### **Getting the Name and Description**\n",
    "lets get a generic way somehow"
   ]
  },
  {
   "cell_type": "code",
   "execution_count": 9,
   "id": "8e4601bb-64c7-4693-ab64-6ecaeb553b73",
   "metadata": {},
   "outputs": [
    {
     "data": {
      "text/plain": [
       "'FFF 2022/23 Stadium Home'"
      ]
     },
     "execution_count": 9,
     "metadata": {},
     "output_type": "execute_result"
    }
   ],
   "source": [
    "obj = soup_results[13]\n",
    "name = obj.find('div', 'product-card__title').text.strip()\n",
    "name"
   ]
  },
  {
   "cell_type": "code",
   "execution_count": 10,
   "id": "cb9cf279-b754-4447-9558-9dad2df85cc4",
   "metadata": {},
   "outputs": [
    {
     "data": {
      "text/plain": [
       "\"Men's Nike Dri-FIT Soccer Jersey\""
      ]
     },
     "execution_count": 10,
     "metadata": {},
     "output_type": "execute_result"
    }
   ],
   "source": [
    "description = obj.find('div', 'product-card__subtitle').text.strip()\n",
    "description"
   ]
  },
  {
   "cell_type": "markdown",
   "id": "e581dbd2-ebee-4679-92a1-62f812dcb0ac",
   "metadata": {},
   "source": [
    "### **Getting the number of Color**"
   ]
  },
  {
   "cell_type": "code",
   "execution_count": 11,
   "id": "cf0b876d-7b10-4823-a09f-6bf53e8cba64",
   "metadata": {},
   "outputs": [
    {
     "data": {
      "text/plain": [
       "'1 Color'"
      ]
     },
     "execution_count": 11,
     "metadata": {},
     "output_type": "execute_result"
    }
   ],
   "source": [
    "color = obj.find('div','product-card__count-item').text\n",
    "color"
   ]
  },
  {
   "cell_type": "markdown",
   "id": "65432016-212e-48bb-a9d2-0c08fad547e5",
   "metadata": {},
   "source": [
    "### **Getting the Price**"
   ]
  },
  {
   "cell_type": "code",
   "execution_count": 12,
   "id": "0641bb8b-3ca4-4fd3-8937-b4671cefe746",
   "metadata": {},
   "outputs": [
    {
     "data": {
      "text/plain": [
       "'$95'"
      ]
     },
     "execution_count": 12,
     "metadata": {},
     "output_type": "execute_result"
    }
   ],
   "source": [
    "try:\n",
    "    price = obj.find('div', 'product-price us__styling is--current-price css-11s12ax').text\n",
    "except AttributeError:\n",
    "    price = obj.find('div','product-price is--current-price css-1ydfahe').text\n",
    "price"
   ]
  },
  {
   "cell_type": "markdown",
   "id": "6b1a2c68-97a9-4c24-b49c-9d204827319c",
   "metadata": {},
   "source": [
    "### **Getting prices with Discount**"
   ]
  },
  {
   "cell_type": "code",
   "execution_count": 13,
   "id": "6a74ea4b-b8db-4074-a722-e1d8d8f59478",
   "metadata": {},
   "outputs": [
    {
     "data": {
      "text/plain": [
       "''"
      ]
     },
     "execution_count": 13,
     "metadata": {},
     "output_type": "execute_result"
    }
   ],
   "source": [
    "try:\n",
    "    old_price = obj.find('div','product-price us__styling is--striked-out css-0').text\n",
    "except AttributeError:\n",
    "    old_price = ''\n",
    "old_price"
   ]
  },
  {
   "cell_type": "markdown",
   "id": "aa5693c9-624c-412e-947d-fc2e7cf1bb21",
   "metadata": {},
   "source": [
    "### **Getting the Urls and Images**"
   ]
  },
  {
   "cell_type": "code",
   "execution_count": 14,
   "id": "24102791-08c4-414d-8ec2-140f34df1623",
   "metadata": {},
   "outputs": [
    {
     "data": {
      "text/plain": [
       "'https://www.nike.com/t/fff-2022-23-stadium-home-mens-dri-fit-soccer-jersey-Nc3PwR/DN0690-410'"
      ]
     },
     "execution_count": 14,
     "metadata": {},
     "output_type": "execute_result"
    }
   ],
   "source": [
    "url2 = obj.find('a', 'product-card__link-overlay').get('href')\n",
    "url2"
   ]
  },
  {
   "cell_type": "code",
   "execution_count": 15,
   "id": "1e638f47-64a6-41fc-a28d-0ca3e2e8e2c0",
   "metadata": {},
   "outputs": [],
   "source": [
    "data = requests.get(url2)\n",
    "soup2 = bs4.BeautifulSoup(data.text, 'html.parser')\n",
    "image = soup2.find('img', class_ = 'css-viwop1 u-full-width u-full-height css-m5dkrx').get('src')"
   ]
  },
  {
   "cell_type": "code",
   "execution_count": 16,
   "id": "751787e8-9c6b-4e05-8bd4-57d0adf8c3bc",
   "metadata": {},
   "outputs": [
    {
     "data": {
      "text/plain": [
       "'https://static.nike.com/a/images/t_PDP_1280_v1/f_auto/a36e6001-0274-44c0-801d-3f819e03fb8e/fff-2022-23-stadium-home-mens-dri-fit-soccer-jersey-Nc3PwR.png'"
      ]
     },
     "execution_count": 16,
     "metadata": {},
     "output_type": "execute_result"
    }
   ],
   "source": [
    "image"
   ]
  },
  {
   "cell_type": "markdown",
   "id": "93d632c7-4cdf-4484-85c1-345bbdb35a9a",
   "metadata": {},
   "source": [
    "#### --------------------------------------------***THE END!!!***-------------------------------------------------"
   ]
  }
 ],
 "metadata": {
  "kernelspec": {
   "display_name": "Python 3 (ipykernel)",
   "language": "python",
   "name": "python3"
  },
  "language_info": {
   "codemirror_mode": {
    "name": "ipython",
    "version": 3
   },
   "file_extension": ".py",
   "mimetype": "text/x-python",
   "name": "python",
   "nbconvert_exporter": "python",
   "pygments_lexer": "ipython3",
   "version": "3.9.12"
  }
 },
 "nbformat": 4,
 "nbformat_minor": 5
}
